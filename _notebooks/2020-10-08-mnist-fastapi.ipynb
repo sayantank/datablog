{
 "cells": [
  {
   "cell_type": "markdown",
   "metadata": {},
   "source": [
    "# \"End to End Deep Learning Project with fastai and FastAPI\"\n",
    "> \"A simple and detailed tutorial on how to go about creating your own state-of-the-art image classifier and deploy it using fastai, FastAPI, Docker and Heroku\"\n",
    "\n",
    "- toc: true\n",
    "- author: Sayantan Karmakar\n",
    "- badges: true\n",
    "- hide_binder_badge: true\n",
    "- comments: true\n",
    "- categories: [fastai, FastAPI, Docker, Heroku, MNIST, CNN]\n",
    "- show_tags: true"
   ]
  },
  {
   "cell_type": "markdown",
   "metadata": {},
   "source": [
    "# Acknowledgment\n",
    "\n",
    "Before starting on with this tutorial, I would like to mention a few names and resources without which this wouldn't have been possible.\n",
    "\n",
    "Firstly, I would like to thank [Jeremy Howard](https://twitter.com/jeremyphoward), [Sylvain Gugger](https://twitter.com/GuggerSylvain) and [Rachel Thomas](https://twitter.com/math_rachel) for creating fastai, along with its [course](https://course.fast.ai) and their new book, [Deep Learning for Coders with fastai and PyTorch](https://www.oreilly.com/library/view/deep-learning-for/9781492045519/) which makes Deep Learning easier and accessible than ever. Then I would like to thank [Hamel Husain](https://twitter.com/HamelHusain) for creating fastpages, with which this entire blog post was made. It's such a great tool, and I would encourage everyone thinking of starting a blog to check it out!\n",
    "\n",
    "And finally, I would like to thank the entire fastai community, for helping me out with my silly doubts on the forums and discord channel, special mention to [Zach Mueller](https://twitter.com/TheZachMueller)!"
   ]
  },
  {
   "cell_type": "markdown",
   "metadata": {},
   "source": [
    "# Introduction\n",
    "\n",
    "In this tutorial, we'll look at how easy and fast training a **state-of-the-art** Convolutional Neural Network on the famous **MNIST** dataset can be using fastai. Then we'll use this model to create an API which when provided with an image input, will send back a response to the client. We will then deploy this API using Docker and Heroku to create your very own fully functioning web app.\n",
    "\n",
    "Since this tutorial is going to be more focused on how to train a Deep Learning model, and deploy it for a web app, I expect the readers to have a basic understanding of how Neural Networks work, along with its underlying concepts such as **Backpropagation**, **Gradient Descent** etc.\n",
    "\n",
    "If you're unfamiliar with these topics, I highly recommend you to take the [fastai course](https://course.fast.ai)."
   ]
  },
  {
   "cell_type": "markdown",
   "metadata": {},
   "source": [
    "# Getting Started\n",
    "\n",
    "## Python packages\n",
    "\n",
    "To get started, we need to install [PyTorch](https://pytorch.org/get-started/locally/), [fastai](https://docs.fast.ai) and [FastAPI](https://fastapi.tiangolo.com/) on our system. Ideally, I would recommend everyone to use Anaconda/Miniconda to manage your Python packages and environments.\n",
    "\n",
    "Assuming you have Anaconda/Miniconda installed, the following lines of code would install the required packages for this tutorial - \n",
    "\n",
    "```\n",
    "conda install pytorch torchvision cudatoolkit=10.2 -c pytorch\n",
    "\n",
    "pip install --upgrade fastai\n",
    "\n",
    "pip install fastapi[all]\n",
    "```\n",
    "\n",
    "## Docker and Heroku\n",
    "\n",
    "Installing is a pretty straightforward process that you can follow in their [documentation](https://docs.docker.com/get-docker/), and if you're using Windows or Mac, I highly recommend installing the **Docker Desktop**. Once you're done installing it, you'll also have to sign up, which they ask you during the installation process.\n",
    "\n",
    "You'll also need to install the **Heroku CLI**, which again, you can follow their [documentation](https://devcenter.heroku.com/articles/heroku-cli). Make sure you sign up on Heroku and have an account ready, as you'll be needing it later in the tutorial.\n",
    "\n",
    "## Development environment\n",
    "\n",
    "If you've followed the fastai course, you would know that the best way to write fastai code is in a IPython notebook environment, as fastai provides many additional features which help your training process much easier and insightful. Hence I would recommend everyone to either install [Jupyterlab](https://jupyterlab.readthedocs.io/en/stable/getting_started/installation.html) on their systems, or check out [Google Colab](https://colab.research.google.com/), which provides you with a Notebook environment in your browser, along with **free GPU support!!**.\n",
    "\n",
    "For the rest of the tutorial, excluding the fastai code, I would recommend any text editor of your choice, but **VSCode** would be preferred as it provides with many features like type-checking for FastAPI.\n",
    "\n",
    "> Tip: If your system doesn't have GPU support, I highly recommend using **Google Colab** as it will make training your model much faster!"
   ]
  },
  {
   "cell_type": "markdown",
   "metadata": {},
   "source": [
    "# Preparing our Model\n",
    "\n",
    "## Importing libraries\n",
    "\n",
    "Believe it or not, but we only need a **single** import statement thing to train our entire model."
   ]
  },
  {
   "cell_type": "code",
   "execution_count": 1,
   "metadata": {},
   "outputs": [],
   "source": [
    "\n",
    "from fastai.vision.all import *\n"
   ]
  },
  {
   "cell_type": "markdown",
   "metadata": {},
   "source": [
    "Now some of you might say it is a _bad practice_ to `import *` in a Python project, but that is the beauty of fastai, which keeps in mind all the issues that would come in doing so, and is written in such a way that it is ***recommended*** to import it like this!"
   ]
  },
  {
   "cell_type": "markdown",
   "metadata": {},
   "source": [
    "## Getting our data\n",
    "\n",
    "To make things easy, I chose on purpose to use the **[MNIST](http://yann.lecun.com/exdb/mnist/)** dataset, which is provided by fastai out-of-the-box. We just have to download it, and untar the downloaded file. This can be easily done with the following code."
   ]
  },
  {
   "cell_type": "code",
   "execution_count": 2,
   "metadata": {},
   "outputs": [],
   "source": [
    "\n",
    "path = untar_data(URLs.MNIST)\n"
   ]
  },
  {
   "cell_type": "code",
   "execution_count": 3,
   "metadata": {},
   "outputs": [],
   "source": [
    "#hide\n",
    "Path.BASE_PATH = path"
   ]
  },
  {
   "cell_type": "markdown",
   "metadata": {},
   "source": [
    "> Note: Depending on your system, this `path` object will be of either `class 'pathlib.PosixPath'` or `class 'pathlib.WindowsPath'`. This is a built-in feature of Python, which I would say is one of the most useful features I've come across while learning fastai and would highly recommend you to check out the **`pathlib`** library. "
   ]
  },
  {
   "cell_type": "markdown",
   "metadata": {},
   "source": [
    "Before we start creating our datasets and dataloaders, we should always check how our data is organized to get an idea of how we're supposed to label and divide our data."
   ]
  },
  {
   "cell_type": "code",
   "execution_count": 4,
   "metadata": {},
   "outputs": [
    {
     "data": {
      "text/plain": [
       "(#2) [Path('testing'),Path('training')]"
      ]
     },
     "execution_count": 4,
     "metadata": {},
     "output_type": "execute_result"
    }
   ],
   "source": [
    "\n",
    "path.ls()\n"
   ]
  },
  {
   "cell_type": "code",
   "execution_count": 5,
   "metadata": {},
   "outputs": [
    {
     "data": {
      "text/plain": [
       "(#10) [Path('training/0'),Path('training/1'),Path('training/2'),Path('training/3'),Path('training/4'),Path('training/5'),Path('training/6'),Path('training/7'),Path('training/8'),Path('training/9')]"
      ]
     },
     "execution_count": 5,
     "metadata": {},
     "output_type": "execute_result"
    }
   ],
   "source": [
    "\n",
    "(path/'training').ls()\n"
   ]
  },
  {
   "cell_type": "code",
   "execution_count": 6,
   "metadata": {},
   "outputs": [
    {
     "data": {
      "text/plain": [
       "(#10) [Path('testing/0'),Path('testing/1'),Path('testing/2'),Path('testing/3'),Path('testing/4'),Path('testing/5'),Path('testing/6'),Path('testing/7'),Path('testing/8'),Path('testing/9')]"
      ]
     },
     "execution_count": 6,
     "metadata": {},
     "output_type": "execute_result"
    }
   ],
   "source": [
    "\n",
    "(path/'testing').ls()\n"
   ]
  },
  {
   "cell_type": "code",
   "execution_count": 7,
   "metadata": {},
   "outputs": [
    {
     "data": {
      "text/plain": [
       "(#5923) [Path('training/0/1.png'),Path('training/0/1000.png'),Path('training/0/10005.png'),Path('training/0/10010.png'),Path('training/0/10022.png'),Path('training/0/10025.png'),Path('training/0/10026.png'),Path('training/0/10045.png'),Path('training/0/10069.png'),Path('training/0/10071.png')...]"
      ]
     },
     "execution_count": 7,
     "metadata": {},
     "output_type": "execute_result"
    }
   ],
   "source": [
    "\n",
    "(path/'training/0').ls()\n"
   ]
  },
  {
   "cell_type": "markdown",
   "metadata": {},
   "source": [
    "As we can see from the above blocks of code, our data is first divided into `training` and `testing` directories, which then includes a directory for each digit, containing images of that particular digit.\n",
    "\n",
    "Hence, we see that the labels of the images are their **parent directory** names. Later in this section, we'll see how easy it is to label your images using fastai!"
   ]
  },
  {
   "cell_type": "markdown",
   "metadata": {},
   "source": [
    "## Creating our DataBlock\n",
    "\n",
    "Now that we had a look at our data, and know how to go about labelling them. We now have to create, what we call `Dataset` and `Dataloader` in PyTorch, which are the two main classes for representing and accessing training or validation data.\n",
    "\n",
    "* `Dataset`: A collection that returns a tuple of your independent and dependent variable for a single item.\n",
    "* `DataLoader`: An iterator that provides a stream of mini-batches, where each mini-batch is a tuple of a batch of independent variables and a batch of dependent variables.\n",
    "\n",
    "Since a `DataLoader` builds on top of a `Dataset` and adds additional functionality to it (collating multiple items into a mini-batch), it’s often easiest to start by creating and testing `Datasets`, and then look at `DataLoaders` after that’s working.\n",
    "\n",
    "For example,"
   ]
  },
  {
   "cell_type": "code",
   "execution_count": 8,
   "metadata": {},
   "outputs": [
    {
     "name": "stdout",
     "output_type": "stream",
     "text": [
      "(0, 'a')\n",
      "(1, 'b')\n",
      "(2, 'c')\n"
     ]
    }
   ],
   "source": [
    "\n",
    "x = list(np.arange(0,26))\n",
    "y = [chr(ord('a') + i)  for i in x]\n",
    "dset = list(zip(x,y))\n",
    "\n",
    "for i in range(3):\n",
    "    print(dset[i])\n"
   ]
  },
  {
   "cell_type": "markdown",
   "metadata": {},
   "source": [
    "Hence, the `dset` object in the code above, is a valid `Dataset` in PyTorch as we can index it, and it returns a tuple of the independent and dependent variable, which in this case is integers from **0 to 26** and letters **a to z** respectively.\n",
    "\n",
    "Now if you wish to create a `DataLoader` for this `Dataset`, you can use the following function provided by PyTorch:"
   ]
  },
  {
   "cell_type": "code",
   "execution_count": 9,
   "metadata": {},
   "outputs": [
    {
     "name": "stdout",
     "output_type": "stream",
     "text": [
      "[tensor([10, 22,  2, 12], dtype=torch.int32), ('k', 'w', 'c', 'm')]\n",
      "[tensor([ 5, 15,  1,  8], dtype=torch.int32), ('f', 'p', 'b', 'i')]\n",
      "[tensor([21, 18,  9,  3], dtype=torch.int32), ('v', 's', 'j', 'd')]\n",
      "[tensor([14, 19, 23, 25], dtype=torch.int32), ('o', 't', 'x', 'z')]\n",
      "[tensor([13, 17,  0, 11], dtype=torch.int32), ('n', 'r', 'a', 'l')]\n",
      "[tensor([ 6, 20, 24,  4], dtype=torch.int32), ('g', 'u', 'y', 'e')]\n"
     ]
    }
   ],
   "source": [
    "\n",
    "dloader = torch.utils.data.DataLoader(dset, batch_size=4,\n",
    "                                      shuffle=True, drop_last=True)\n",
    "for i in dloader:\n",
    "    print(i)\n"
   ]
  },
  {
   "cell_type": "markdown",
   "metadata": {},
   "source": [
    "As you can see, iterating over the `DataLoader`, it returns a list with a tensor representing a batch of independent variables, and along with it, a tuple of its corresponding dependent variables.\n",
    "\n",
    "The parameters of the above function are pretty self-explanatory except maybe `drop_last`, which allows you to drop the last batch of data if it is not of the given `batch_size` as in some cases it is important to have all your batches of similar sizes.\n",
    "\n",
    "\n",
    "On top of these, fastai provides two classes for bringing your training and validation sets together:\n",
    "\n",
    "* `Datasets`: An object that contains a training Dataset and a validation Dataset\n",
    "* `DataLoaders`: An object that contains a training DataLoader and a validation DataLoader\n",
    "\n",
    "Now that we understand how `Dataset` and `DataLoaders` work, thanks to fastai again, we can leave the hassle of splitting our data into training and validation data, and then making the necessary `Datasets` and `DataLoaders` to the amazing high-level data-block API.\n",
    "\n",
    "For our tutorial, to create the required the `DataBlock`, the following code should do all the required steps, which we'll understand as we move on!"
   ]
  },
  {
   "cell_type": "code",
   "execution_count": 10,
   "metadata": {},
   "outputs": [],
   "source": [
    "\n",
    "dblock = DataBlock(\n",
    "    blocks=(ImageBlock, CategoryBlock),\n",
    "    get_items=get_image_files,\n",
    "    splitter=RandomSplitter(valid_pct=0.2),\n",
    "    get_y=parent_label,\n",
    "    item_tfms=Resize(128),\n",
    "    batch_tfms=aug_transforms(mult=2, do_flip=False, pad_mode='zeros',\n",
    "                              min_zoom=0.6, max_zoom=1.5)\n",
    ")\n"
   ]
  },
  {
   "cell_type": "markdown",
   "metadata": {},
   "source": [
    "The parameters required to define the DataBlock object are as follows:\n",
    "\n",
    "* **`blocks`**: This represents the type of data we wish to represent, hence for this tutorial, our independent variable is an image, and dependent variable will be an integer, representing a category. Hence our problem in hand is a multi-class Classificiation problem.\n",
    "* **`get_items`**: This is a function which is run when given a path usually, returns the list of items. In this case, `get_image_files` is a function which if given a path, recursively finds out all the image files in the directory, and returns their paths as a list.\n",
    "* **`splitter`**: This is a function which when given the list of all items, returns two lists, representing the training set and validation set. In this case, we are _randomly splitting_ the images, keeping 20% for validation set.\n",
    "* **`get_y`**: This is function, which is mapped to all the items in the list mentioned above, to extract the dependent variable from it, which we call as **y** usually. `parent_label` is a function that takes in a path, and outputs the parent directory name.\n",
    "* **`item_tfms`**: In PyTorch, we have functions called `Transforms`, which when given an image, performs certain operations on it. Here, `Resize` is a transform, which as the name suggest, resizes the image to shape `(128,128)`.\n",
    "* **`batch_tfms`**: This is meant for transforms to perform **Data Augmentation**. These transformations are applied on the batch as a whole, on the GPU, so that the process is fast. Whereas `item_tfms` is applied on the CPU usually, and to each and every item in the data.\n",
    "\n",
    "> Note: I would love to go on about Data Augmentation in this tutorial, but since we have so much to cover, I believe it is out of scope for this tutorial but I would again highly recommend reading about it or follow the fastai course.\n",
    "\n",
    "\n",
    "> Tip: If you want to know more about a certain function or object, you can run the code `doc(DataBlock)` for example, to get the documentation on your notebook environment. To have a look at the source code, you can run `DataBlock??` in a cell.\n",
    "\n",
    "Now that we have our `DataBlock` ready, to get our `DataLoaders`, we simply run the following code:\n"
   ]
  },
  {
   "cell_type": "code",
   "execution_count": null,
   "metadata": {},
   "outputs": [],
   "source": [
    "\n",
    "dls = dblock.dataloaders(path, bs=64)\n"
   ]
  },
  {
   "cell_type": "code",
   "execution_count": 19,
   "metadata": {},
   "outputs": [],
   "source": [
    "#hide\n",
    "# This is because Windows doesnt support multiprocessing, and hence have to set num_workers=0\n",
    "dls = dblock.dataloaders(path, bs=64, num_workers=0)"
   ]
  },
  {
   "cell_type": "markdown",
   "metadata": {},
   "source": [
    "Now to access the training set or validation set, we can run `dls.train` and `dls.valid` respectively.\n",
    "\n",
    "It is good practice usually to have a look at our batch of data before moving on, to see if everything works. We can do this very easily with the following piece of code: \n"
   ]
  },
  {
   "cell_type": "code",
   "execution_count": 12,
   "metadata": {},
   "outputs": [
    {
     "data": {
      "image/png": "[encoded data removed]",
      "text/plain": [
       "<Figure size 864x432 with 8 Axes>"
      ]
     },
     "metadata": {
      "needs_background": "light"
     },
     "output_type": "display_data"
    }
   ],
   "source": [
    "\n",
    "dls.train.show_batch(max_n=8, nrows=2)\n"
   ]
  },
  {
   "cell_type": "markdown",
   "metadata": {},
   "source": [
    "Yup, that's it! That's all you have to do to have a look at your batch of data.\n",
    "\n",
    "We can see that our images look slightly distorted, and this is what we call as **Data Augmentation**, which transforms your images to make it harder for the model to identify, but in practice, makes your model more robust to a variety of inputs. It also obviously solves the problem of lack of training data as now we can create multiple training images from what was initially a single given traning example."
   ]
  },
  {
   "cell_type": "markdown",
   "metadata": {},
   "source": [
    "## Training our model\n",
    "\n",
    "Now that we have our `DataLoaders` ready, we're finally ready to code up our model. But first, we need to decide which model we want to use.\n",
    "\n",
    "Back in the day, for any type of classification problem, we would look into models like **Logistic Regression**, **Random Forests**, **Multi-layer Perceptrons**, etc. These models would perform great on tabular data, but in this case we're dealing with image data. To use these models with image data, we had to flatten the image pixels into a single vector, which represented the whole image, and was put into these models.\n",
    "\n",
    "The issue with this is that, even though models like **Multi-layer Perceptrons** have given great results in the past, our input is still linear, and hence the model fails to learn certain features of the image which is lost by flattening the pixel values.\n",
    "\n",
    "Then in the 1990's, came the first modern use of Convolutional Neural Networks, abbreviated as CNNs, by Yann LeCun et al. in their paper, [“Gradient-Based Learning Applied to Document Recognition”](http://yann.lecun.com/exdb/publis/pdf/lecun-01a.pdf) where they used this very MNIST dataset!\n",
    "\n",
    "Now, going into understanding CNNs is a whole another blog post in itself and there are so many of them out there on the Internet. Hence, I wont be covering this topic in this tutorial, but here's a [blog post](https://ujjwalkarn.me/2016/08/11/intuitive-explanation-convnets/#:~:text=Convolutional%20Neural%20Networks%20(ConvNets%20or,robots%20and%20self%20driving%20cars.) I love, explaining how CNNs work in very detail!\n",
    "\n",
    "But to give you a high-level idea of CNNs, they basically run filters, which have certain weights associated with them, over an image to determine the various features of the image."
   ]
  },
  {
   "cell_type": "markdown",
   "metadata": {},
   "source": [
    "IMAGE"
   ]
  },
  {
   "cell_type": "markdown",
   "metadata": {},
   "source": [
    "In this tutorial, we'll be using a CNN called **[Resnets](https://arxiv.org/abs/1512.03385)**, which comes pretrained on the [ImageNet dataset](http://www.image-net.org/). By **pretrained**, what I mean is that, this model was trained on the mentioned ImageNet dataset, and then the weights of that model were saved, and now used by Deep Learning lovers all around the world!\n",
    "\n",
    "> Note: This method of using a pretrained model is called **Transfer Learning**, and I would recommend reading about it once you have a good understanding of CNNs.\n",
    "\n",
    "Fastai makes transfer learning with well-known models like Resnets, super easy with their `cnn_learner` function, which returns a Learner object. To know more about this, feel free to refer the [docs](https://docs.fast.ai). Basically, a Learner object contains the model, along with features such as plotting losses, printing accuracies as we train, etc. So now, we'll define our `cnn_learner`."
   ]
  },
  {
   "cell_type": "code",
   "execution_count": 21,
   "metadata": {},
   "outputs": [],
   "source": [
    "learn = cnn_learner(dls, resnet18, pretrained=True, metrics=accuracy)"
   ]
  },
  {
   "cell_type": "markdown",
   "metadata": {},
   "source": [
    "Guess what? You have a state-of-the-art model ready to train on your data, in just a single line of code!\n",
    "\n",
    "> Tip: To have a look at how the model is defined, try running `learn.model` in a code cell.\n",
    "\n",
    "Now if you're familiar with Backpropagation and Gradient Descent, you might know what a **Learning Rate** is. It is basically a ***hyper-parameter*** that lets you decide how fast your model will learn. But you need to be careful deciding its value, as a value too high or too low, will lead to your model failing to learn properly.\n",
    "\n",
    "To help you decide a good learning rate, the `Learner` object comes with this function, `Learner.lr_find()` which basically runs the training process, which inclues Backpropagation, Gradient Descent, etc, but with the learning rate increasing as it trains. This Learning Rate finder method was introduced by Leslie Smith, in her paper, [Cyclical Learning Rates for Training Neural Networks](https://arxiv.org/pdf/1506.01186.pdf).\n",
    "\n",
    "So let's go ahead and find a good learning rate to train our model!"
   ]
  },
  {
   "cell_type": "code",
   "execution_count": 22,
   "metadata": {},
   "outputs": [
    {
     "data": {
      "text/html": [],
      "text/plain": [
       "<IPython.core.display.HTML object>"
      ]
     },
     "metadata": {},
     "output_type": "display_data"
    },
    {
     "data": {
      "text/plain": [
       "SuggestedLRs(lr_min=0.014454397559165954, lr_steep=0.007585775572806597)"
      ]
     },
     "execution_count": 22,
     "metadata": {},
     "output_type": "execute_result"
    },
    {
     "data": {
      "image/png": "[encoded data removed]",
      "text/plain": [
       "<Figure size 432x288 with 1 Axes>"
      ]
     },
     "metadata": {
      "needs_background": "light"
     },
     "output_type": "display_data"
    }
   ],
   "source": [
    "learn.lr_find()"
   ]
  },
  {
   "cell_type": "markdown",
   "metadata": {},
   "source": [
    "As we see here, a graph of **Loss** against **Learning Rate** is plotted. Usually it is suggested to use a learning rate where the curve is **steepest** since that's where the model seems to be learning the fastest. One would say why not use the learning rate where loss is **minimum**, but if you look at the curve, the curve becomes increasing right after its minimum point, and hence the once you start training, the model will start getting worse within a few epochs. \n",
    "\n",
    "Hence, we'll go ahead with a learning rate of `7e-3`"
   ]
  },
  {
   "cell_type": "code",
   "execution_count": 23,
   "metadata": {},
   "outputs": [
    {
     "data": {
      "text/html": [
       "<table border=\"1\" class=\"dataframe\">\n",
       "  <thead>\n",
       "    <tr style=\"text-align: left;\">\n",
       "      <th>epoch</th>\n",
       "      <th>train_loss</th>\n",
       "      <th>valid_loss</th>\n",
       "      <th>accuracy</th>\n",
       "      <th>time</th>\n",
       "    </tr>\n",
       "  </thead>\n",
       "  <tbody>\n",
       "    <tr>\n",
       "      <td>0</td>\n",
       "      <td>0.582411</td>\n",
       "      <td>0.171095</td>\n",
       "      <td>0.947000</td>\n",
       "      <td>03:25</td>\n",
       "    </tr>\n",
       "  </tbody>\n",
       "</table>"
      ],
      "text/plain": [
       "<IPython.core.display.HTML object>"
      ]
     },
     "metadata": {},
     "output_type": "display_data"
    },
    {
     "data": {
      "text/html": [
       "<table border=\"1\" class=\"dataframe\">\n",
       "  <thead>\n",
       "    <tr style=\"text-align: left;\">\n",
       "      <th>epoch</th>\n",
       "      <th>train_loss</th>\n",
       "      <th>valid_loss</th>\n",
       "      <th>accuracy</th>\n",
       "      <th>time</th>\n",
       "    </tr>\n",
       "  </thead>\n",
       "  <tbody>\n",
       "    <tr>\n",
       "      <td>0</td>\n",
       "      <td>0.124255</td>\n",
       "      <td>0.035682</td>\n",
       "      <td>0.988214</td>\n",
       "      <td>03:51</td>\n",
       "    </tr>\n",
       "    <tr>\n",
       "      <td>1</td>\n",
       "      <td>0.094673</td>\n",
       "      <td>0.021345</td>\n",
       "      <td>0.993357</td>\n",
       "      <td>03:53</td>\n",
       "    </tr>\n",
       "    <tr>\n",
       "      <td>2</td>\n",
       "      <td>0.062400</td>\n",
       "      <td>0.021696</td>\n",
       "      <td>0.993714</td>\n",
       "      <td>03:55</td>\n",
       "    </tr>\n",
       "    <tr>\n",
       "      <td>3</td>\n",
       "      <td>0.043637</td>\n",
       "      <td>0.014921</td>\n",
       "      <td>0.995643</td>\n",
       "      <td>03:59</td>\n",
       "    </tr>\n",
       "    <tr>\n",
       "      <td>4</td>\n",
       "      <td>0.041164</td>\n",
       "      <td>0.013886</td>\n",
       "      <td>0.996214</td>\n",
       "      <td>03:58</td>\n",
       "    </tr>\n",
       "  </tbody>\n",
       "</table>"
      ],
      "text/plain": [
       "<IPython.core.display.HTML object>"
      ]
     },
     "metadata": {},
     "output_type": "display_data"
    }
   ],
   "source": [
    "learn.fine_tune(5, lr=7e-3)"
   ]
  },
  {
   "cell_type": "markdown",
   "metadata": {},
   "source": [
    "With that, we just trained a resnet on out training data and got an accuracy of pretty much **100%** in just around **20 mins!** (which could be even lesser if you use Colab or have a better GPU than mine)\n",
    "\n",
    "One thing I would like to mention is the function `fine_tune` that we ran for this model. Since we're using a pretrained model, how Transfer Learning works is that, apart from the final layer of the model, which allows us to classify, the rest of the model is initially **freezed**. Frozen layers mean they are not trained and hence their weights are not updated. \n",
    "\n",
    "Hence, how `fine_tune` works is that, it first runs one epoch with only the final layer **not** frozen, and then runs the number of epochs specified by you, with the whole model **not** frozen.\n",
    "\n",
    "Now all that's left to do is to save our model, or rather ***export*** our model, which we can do with the following line of code:"
   ]
  },
  {
   "cell_type": "code",
   "execution_count": null,
   "metadata": {},
   "outputs": [],
   "source": [
    "learn.export(fname='mnist_resnet18.pkl')"
   ]
  },
  {
   "cell_type": "markdown",
   "metadata": {},
   "source": [
    "With that, we just saw how we go about loading our data, creating `DataBlocks`, `DataLoaders` and `Datasets`, loading our model, pretraining it, and then finally exporting it! \n",
    "\n",
    "To learn more about this whole process, do check out the [fastai course](https://course.fast.ai)!\n",
    "\n",
    "Now we can move on to creating our API with FastAPI!"
   ]
  }
 ],
 "metadata": {
  "kernelspec": {
   "display_name": "Python 3",
   "language": "python",
   "name": "python3"
  },
  "language_info": {
   "codemirror_mode": {
    "name": "ipython",
    "version": 3
   },
   "file_extension": ".py",
   "mimetype": "text/x-python",
   "name": "python",
   "nbconvert_exporter": "python",
   "pygments_lexer": "ipython3",
   "version": "3.8.5"
  }
 },
 "nbformat": 4,
 "nbformat_minor": 4
}
